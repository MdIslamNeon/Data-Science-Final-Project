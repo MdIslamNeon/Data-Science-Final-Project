{
 "cells": [
  {
   "cell_type": "code",
   "execution_count": 1,
   "metadata": {},
   "outputs": [],
   "source": [
    "'''\n",
    "IMPORTS\n",
    "'''\n",
    "\n",
    "#Imports the pandas library to read and process data tables\n",
    "import pandas as pd\n",
    "\n",
    "#Imports numpy library to perform mathematical operations on Arrays\n",
    "import numpy as np\n",
    "\n",
    "#Imports the StandardScalar from sklearn model to normalize (scale) the features\n",
    "from sklearn.preprocessing import StandardScaler\n",
    "\n",
    "#Imports the train_test_split class from sklearn model to split the dataset\n",
    "from sklearn.model_selection import train_test_split\n",
    "\n",
    "#Imports the Decision Tree Classifier from sklearn tree\n",
    "from sklearn.tree import DecisionTreeClassifier\n",
    "\n",
    "#Imports the KNeighborsClassifier class from sklearn neighbors\n",
    "from sklearn.neighbors import KNeighborsClassifier\n",
    "\n",
    "#Imports mean_squared_error sklearn metrics\n",
    "from sklearn.metrics import mean_squared_error\n",
    "\n",
    "#Imports the Logistic Regression Classifier from sklearn linear_model\n",
    "from sklearn.linear_model import LogisticRegression\n",
    "\n",
    "#Imports the accuracy_score class from sklearn metrics to test accuracy between acutal and predicted data\n",
    "from sklearn.metrics import accuracy_score\n",
    "\n",
    "#Imports metrics from sklearn\n",
    "from sklearn import metrics\n",
    "\n",
    "#Importing the \"pyplot\" package of \"matplotlib\" library of python to generate graphs and plot curves\n",
    "import matplotlib.pyplot as plt"
   ]
  },
  {
   "cell_type": "code",
   "execution_count": 2,
   "metadata": {},
   "outputs": [],
   "source": [
    "#Creates a pandas Dataframe by reading the list of songs dataset from a local CSV File\n",
    "df = pd.read_csv('Most Streamed Spotify Songs 2024.csv', encoding = 'latin-1')"
   ]
  },
  {
   "cell_type": "code",
   "execution_count": 3,
   "metadata": {
    "scrolled": true
   },
   "outputs": [],
   "source": [
    "#Some feature columns have comma ',' so we must remove the commas before using the data for training and testing\n",
    "\n",
    "change_feature_col = ['Spotify Streams', 'Spotify Playlist Count', 'Spotify Playlist Reach', \n",
    "                      'YouTube Views', 'YouTube Likes', 'TikTok Posts', 'TikTok Likes', \n",
    "                      'TikTok Views', 'YouTube Playlist Reach', 'AirPlay Spins', 'SiriusXM Spins',\n",
    "                      'Deezer Playlist Reach', 'Pandora Streams', 'Pandora Track Stations', \n",
    "                      'Soundcloud Streams', 'Shazam Counts']\n",
    "\n",
    "#print(df[change_feature_col])\n",
    "\n",
    "for column in change_feature_col:\n",
    "    df[column] = df[column].str.replace(',', '').astype(float)\n",
    "\n",
    "#Replaces all NaN values in with 0\n",
    "df.fillna(0, inplace=True)"
   ]
  },
  {
   "cell_type": "code",
   "execution_count": 4,
   "metadata": {},
   "outputs": [],
   "source": [
    "'''\n",
    "A for loop to categorize each value of All Time Rank column to \"High Rank\", \"Mid Rank\", and \"Low Rank\" through One Hot Encoding. \n",
    "Because there are 4600 values for rank, it will be extremly difficult for our learning algorithms to predict the exact rank\n",
    "that a song will be at. As such, we use category labels to make up for that.\n",
    "'''\n",
    "\n",
    "#Removes commas and converts all values from the All Time Rank column to an integer type\n",
    "df['All Time Rank'] = df['All Time Rank'].str.replace(',', '').astype(int)\n",
    "\n",
    "#A an array to categorize into High Rank, Mid Rank, and Low Rank\n",
    "rank_categories = []\n",
    "\n",
    "#A for loop to conduct One Hot Encoding for the All Time Rank column\n",
    "for rank in df['All Time Rank']:\n",
    "    if rank <= 1000:\n",
    "        rank_categories.append('High Rank')\n",
    "    elif rank <= 3000:\n",
    "        rank_categories.append('Mid Rank')\n",
    "    else:\n",
    "        rank_categories.append('Low Rank')\n",
    "\n",
    "#Assigns a new set of values to the All Time Rank column\n",
    "df['All Time Rank'] = rank_categories \n",
    "\n",
    "#ebug code\n",
    "    #print(df['All Time Rank'])"
   ]
  },
  {
   "cell_type": "code",
   "execution_count": 5,
   "metadata": {},
   "outputs": [],
   "source": [
    "#Let's set up a feature matrix and a label vector for the dataset\n",
    "\n",
    "#Let's set up a feature matrix and a label vector for the dataset\n",
    "feature_columns = ['Track Score', 'Spotify Streams', 'Spotify Playlist Count', 'Spotify Playlist Reach', \n",
    "                   'Spotify Popularity', 'YouTube Views', 'YouTube Likes', 'TikTok Posts', 'TikTok Likes',\n",
    "                   'TikTok Views', 'YouTube Playlist Reach', 'Apple Music Playlist Count', 'AirPlay Spins',\t\n",
    "                   'SiriusXM Spins', 'Deezer Playlist Count', 'Deezer Playlist Reach',\t'Amazon Playlist Count', \n",
    "                   'Pandora Streams', 'Pandora Track Stations',\t'Soundcloud Streams', 'Shazam Counts', 'Explicit Track']\n",
    "\n",
    "#X will be the feature matrix (dataframe) that stores all of our features' values\n",
    "X = df[feature_columns]\n",
    "\n",
    "#Y will be the label vector (dataframe) that will store all of the label values\n",
    "y = df['All Time Rank']"
   ]
  },
  {
   "cell_type": "code",
   "execution_count": 6,
   "metadata": {},
   "outputs": [],
   "source": [
    "#Scales down the data for the feature columns\n",
    "scaler = StandardScaler()\n",
    "X = scaler.fit_transform(X)"
   ]
  },
  {
   "cell_type": "code",
   "execution_count": 7,
   "metadata": {},
   "outputs": [],
   "source": [
    "#Splits up the dataset into testing and training sets\n",
    "X_train, X_test, y_train, y_test = train_test_split(X, y, test_size=0.4, random_state=9)"
   ]
  },
  {
   "cell_type": "code",
   "execution_count": 8,
   "metadata": {},
   "outputs": [],
   "source": [
    "'''\n",
    "KEYVAN'S SECTION\n",
    "'''\n",
    "\n",
    "#Instantiates Decision Tree Classifer object\n",
    "decision_tree = DecisionTreeClassifier(criterion='entropy', max_depth=None, random_state=5)\n",
    "\n",
    "#Trains the DT object\n",
    "decision_tree.fit(X_train, y_train)\n",
    "\n",
    "#Tests DT object on testing data \n",
    "y_predict = decision_tree.predict(X_test)\n",
    "\n",
    "#Debug code\n",
    "    #print('y_test: ')\n",
    "    #print(y_test[:10])\n",
    "\n",
    "    #print('\\n')\n",
    "\n",
    "    #print('y_predict: ')\n",
    "    #print(y_predict[:10])\n",
    "\n",
    "    #print('\\n')\n",
    "\n",
    "#Checks the accuracy of the actual values compared to the predicted values for DT classifier\n",
    "dt_accuracy = accuracy_score(y_test, y_predict)"
   ]
  },
  {
   "cell_type": "code",
   "execution_count": 9,
   "metadata": {},
   "outputs": [],
   "source": [
    "'''\n",
    "ADRIAN'S SECTION\n",
    "'''\n",
    "\n",
    "k = 10\n",
    "# Create KNeighbors Classifier object\n",
    "knn = KNeighborsClassifier(n_neighbors=k, weights='uniform')\n",
    "\n",
    "# train the KNN object\n",
    "knn.fit(X_train, y_train)\n",
    "\n",
    "# predict and calculate accuracy\n",
    "y_pred = knn.predict(X_test)\n",
    "\n",
    "# check the accuracy to compare to other algorithms!\n",
    "knn_accuracy = accuracy_score(y_test, y_pred)"
   ]
  },
  {
   "cell_type": "code",
   "execution_count": 10,
   "metadata": {},
   "outputs": [],
   "source": [
    "'''\n",
    "MD'S SECTION\n",
    "'''\n",
    "my_logreg = LogisticRegression(max_iter=5000)\n",
    "# training on training set\n",
    "my_logreg.fit(X_train, y_train)\n",
    "# testing on testing set\n",
    "y_predict_lr = my_logreg.predict(X_test)\n",
    "\n",
    "lr_accuracy = accuracy_score(y_test, y_predict_lr)"
   ]
  },
  {
   "cell_type": "code",
   "execution_count": 11,
   "metadata": {},
   "outputs": [
    {
     "name": "stdout",
     "output_type": "stream",
     "text": [
      "DT Classifer (1st): 99.6 % \n",
      "\n",
      "LR Classifer (2nd): 96.6 % \n",
      "\n",
      "KNN Classifer (3rd): 68.8 % \n"
     ]
    }
   ],
   "source": [
    "'''\n",
    "Comparisons of accuracy\n",
    "'''\n",
    "\n",
    "#Compares the accuracy of all three classifiers\n",
    "print('DT Classifer (1st): ' + str(round(dt_accuracy, 3) * 100) + ' % \\n')\n",
    "print('LR Classifer (2nd): ' + str(round(lr_accuracy, 3) * 100) + ' % \\n')\n",
    "print('KNN Classifer (3rd): ' + str(round(knn_accuracy, 3) * 100) + ' % ')"
   ]
  },
  {
   "cell_type": "code",
   "execution_count": 12,
   "metadata": {},
   "outputs": [],
   "source": [
    "'''\n",
    "Setting up for graphs (ROC Curves)\n",
    "'''\n",
    "\n",
    "#The following line will tell Jupyter Notebook to keep the figures inside the explorer page rather than opening a new figure window\n",
    "%matplotlib inline\n",
    "\n",
    "#Converts/maps binary values to the test labels to calculate the AUC for each classifier\n",
    "y_test = y_test.map({\"High Rank\": 0, \"Mid Rank\": 1, \"Low Rank\": 2})"
   ]
  },
  {
   "cell_type": "code",
   "execution_count": 13,
   "metadata": {},
   "outputs": [
    {
     "name": "stdout",
     "output_type": "stream",
     "text": [
      "\n",
      "AUC: 18.85%\n"
     ]
    },
    {
     "data": {
      "image/png": "[encoded data removed]",
      "text/plain": [
       "<Figure size 432x288 with 1 Axes>"
      ]
     },
     "metadata": {
      "needs_background": "light"
     },
     "output_type": "display_data"
    }
   ],
   "source": [
    "'''\n",
    "Sets up the Roc Curve for DT Classifier\n",
    "'''\n",
    "#Sets up and trains the Decision Tree Classifier Classifer object\n",
    "decision_tree = DecisionTreeClassifier(criterion='entropy', max_depth=None, random_state=5)\n",
    "\n",
    "decision_tree.fit(X_train, y_train)\n",
    "\n",
    "#Estimating the probability (likelihood) of the label\n",
    "y_predict_prob = decision_tree.predict_proba(X_test)\n",
    "\n",
    "#Fins fpr, tpr, and thresholds to find the ROC Curve for DT Classifier \n",
    "fpr, tpr, thresholds = metrics.roc_curve(y_test, y_predict_prob[:,1], pos_label=1)\n",
    "\n",
    "#DT Classifier AUC\n",
    "AUC = metrics.auc(fpr, tpr)\n",
    "\n",
    "plt.figure()\n",
    "\n",
    "#Plots Roc Curve for DT Classifier\n",
    "plt.plot(fpr, tpr, color='red', lw=2, \n",
    "         label='ROC Curve (area = %0.2f)' % AUC)\n",
    "\n",
    "#Random Guess line\n",
    "plt.plot([0, 1], [0, 1], color='blue', lw=1, linestyle='--')\n",
    "\n",
    "#Defining The Range of X-Axis and Y-Axis\n",
    "plt.xlim([-0.005, 1.005])\n",
    "plt.ylim([0.0, 1.01])\n",
    "\n",
    "#Labels, Title, Legend\n",
    "plt.xlabel('False Positive Rate')\n",
    "plt.ylabel('True Positive Rate')\n",
    "plt.title('Receiver operating characteristic')\n",
    "plt.legend(loc=\"lower right\")\n",
    "\n",
    "print('\\nAUC: ' + str(round(AUC * 100, 3)) + '%')"
   ]
  },
  {
   "cell_type": "code",
   "execution_count": 14,
   "metadata": {},
   "outputs": [
    {
     "name": "stdout",
     "output_type": "stream",
     "text": [
      "\n",
      "AUC: 37.385%\n"
     ]
    },
    {
     "data": {
      "image/png": "[encoded data removed]",
      "text/plain": [
       "<Figure size 432x288 with 1 Axes>"
      ]
     },
     "metadata": {
      "needs_background": "light"
     },
     "output_type": "display_data"
    }
   ],
   "source": [
    "'''\n",
    "Sets up the Roc Curve for Logistic Regression Classifier\n",
    "'''\n",
    "#Sets up and tests accuracy for Logistic Regression Classifer object\n",
    "logistic_regression = LogisticRegression(max_iter=5000)\n",
    "\n",
    "logistic_regression.fit(X_train, y_train)\n",
    "\n",
    "#Estimating the probability (likelihood) of Each Label: \n",
    "y_predict_prob = logistic_regression.predict_proba(X_test)\n",
    "\n",
    "#Fins fpr, tpr, and thresholds to find the ROC Curve\n",
    "fpr, tpr, thresholds = metrics.roc_curve(y_test, y_predict_prob[:,1], pos_label=1)\n",
    "\n",
    "#Logistic Regression AUC\n",
    "AUC = metrics.auc(fpr, tpr)\n",
    "\n",
    "plt.figure()\n",
    "\n",
    "#Plots Roc Curve for Logistic Regression\n",
    "plt.plot(fpr, tpr, color='red', lw=2, \n",
    "         label='ROC Curve (area = %0.2f)' % AUC)\n",
    "\n",
    "#Random Guess line:\n",
    "plt.plot([0, 1], [0, 1], color='blue', lw=1, linestyle='--')\n",
    "\n",
    "#Defining The Range of X-Axis and Y-Axis:\n",
    "plt.xlim([-0.005, 1.005])\n",
    "plt.ylim([0.0, 1.01])\n",
    "\n",
    "#Labels, Title, Legend:\n",
    "plt.xlabel('False Positive Rate')\n",
    "plt.ylabel('True Positive Rate')\n",
    "plt.title('Receiver operating characteristic')\n",
    "plt.legend(loc=\"lower right\")\n",
    "\n",
    "print('\\nAUC: ' + str(round(AUC * 100, 3)) + '%')\n",
    "\n",
    "plt.show()"
   ]
  },
  {
   "cell_type": "code",
   "execution_count": 15,
   "metadata": {},
   "outputs": [
    {
     "name": "stdout",
     "output_type": "stream",
     "text": [
      "\n",
      "AUC: 45.792%\n"
     ]
    },
    {
     "data": {
      "image/png": "[encoded data removed]",
      "text/plain": [
       "<Figure size 432x288 with 1 Axes>"
      ]
     },
     "metadata": {
      "needs_background": "light"
     },
     "output_type": "display_data"
    }
   ],
   "source": [
    "'''\n",
    "Sets up the Roc Curve for KNN Classifier\n",
    "'''\n",
    "\n",
    "k = 10\n",
    "# set up KNeighbors Classifier object to test accuracy\n",
    "knn_classifier = KNeighborsClassifier(n_neighbors = k, weights = 'uniform')\n",
    "\n",
    "knn_classifier.fit(X_train, y_train)\n",
    "\n",
    "# estiamte the probability of each label\n",
    "y_predict_prob = knn_classifier.predict_proba(X_test)\n",
    "\n",
    "#Fins, fpr, tpr, and thresholds to find the ROC Curve\n",
    "fpr, tpr, thresholds = metrics.roc_curve(y_test, y_predict_prob[:,1], pos_label=1)\n",
    "\n",
    "# Logistic Regression AUC\n",
    "AUC = metrics.auc(fpr, tpr)\n",
    "\n",
    "plt.figure()\n",
    "\n",
    "# Plot Roc Curve for Logistic Regression\n",
    "plt.plot(fpr, tpr, color='red', lw=2,\n",
    "        label='KNN Roc Curve (area = %0.2f)' % AUC)\n",
    "\n",
    "# Random Guess Line\n",
    "plt.plot([0,1], [0,1], color='blue', lw=1, linestyle='--')\n",
    "\n",
    "# Define the range of X-axis and Y-axis\n",
    "plt.xlim([-0.005, 1.005])\n",
    "plt.ylim([0.0, 1.01])\n",
    "\n",
    "# Create Labels, Title, Legend\n",
    "plt.xlabel('False Positive Rate')\n",
    "plt.ylabel('True Positive Rate')\n",
    "plt.title('Receiver operating characteristic')\n",
    "plt.legend(loc=\"lower right\")\n",
    "\n",
    "print('\\nAUC: ' + str(round(AUC * 100, 3)) + '%')\n",
    "\n",
    "plt.show()\n",
    "\n"
   ]
  },
  {
   "cell_type": "code",
   "execution_count": null,
   "metadata": {},
   "outputs": [],
   "source": []
  }
 ],
 "metadata": {
  "kernelspec": {
   "display_name": "Python 3",
   "language": "python",
   "name": "python3"
  },
  "language_info": {
   "codemirror_mode": {
    "name": "ipython",
    "version": 3
   },
   "file_extension": ".py",
   "mimetype": "text/x-python",
   "name": "python",
   "nbconvert_exporter": "python",
   "pygments_lexer": "ipython3",
   "version": "3.7.6"
  }
 },
 "nbformat": 4,
 "nbformat_minor": 5
}
