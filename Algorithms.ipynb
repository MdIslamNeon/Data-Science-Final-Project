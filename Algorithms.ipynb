{
 "cells": [
  {
   "cell_type": "code",
   "execution_count": 158,
   "id": "51c40010-cdf4-49c7-82eb-d0343e9d44fc",
   "metadata": {},
   "outputs": [],
   "source": [
    "'''\n",
    "IMPORTS\n",
    "'''\n",
    "\n",
    "#Imports the pandas library to read and process data tables\n",
    "import pandas as pd\n",
    "\n",
    "#Imports numpy library to perform mathematical operations on Arrays\n",
    "import numpy as np\n",
    "\n",
    "#Imports the StandardScalar from sklearn model to normalize (scale) the features\n",
    "from sklearn.preprocessing import StandardScaler\n",
    "\n",
    "#Imports the train_test_split class from sklearn model to split the dataset\n",
    "from sklearn.model_selection import train_test_split\n",
    "\n",
    "#Imports the Decision Tree Classifier from sklearn tree\n",
    "from sklearn.tree import DecisionTreeClassifier\n",
    "\n",
    "#Imports the KNeighborsClassifier class from sklearn neighbors\n",
    "from sklearn.neighbors import KNeighborsClassifier\n",
    "\n",
    "#Imports the accuracy_score class from sklearn metrics to test accuracy between acutal and predicted data\n",
    "from sklearn.metrics import accuracy_score"
   ]
  },
  {
   "cell_type": "code",
   "execution_count": 160,
   "id": "0ca5cd91-4df4-4832-b6e9-9b8cbe3dcba1",
   "metadata": {},
   "outputs": [],
   "source": [
    "#Creates a pandas Dataframe by reading the list of songs dataset from a local CSV File\n",
    "df = pd.read_csv('Most Streamed Spotify Songs 2024.csv', encoding = 'latin-1')"
   ]
  },
  {
   "cell_type": "code",
   "execution_count": 162,
   "id": "9054747f-51b2-4a13-b758-647b0531f1c3",
   "metadata": {},
   "outputs": [],
   "source": [
    "#Some columns have comma ',' so we must remove the commas before using the data for training and testing\n",
    "\n",
    "change_col = ['Spotify Streams', 'Spotify Playlist Count', 'Spotify Playlist Reach', \n",
    "              'YouTube Views', 'YouTube Likes', 'TikTok Posts', 'TikTok Likes', \n",
    "              'TikTok Views', 'YouTube Playlist Reach', 'AirPlay Spins', 'SiriusXM Spins',\n",
    "              'Deezer Playlist Reach', 'Pandora Streams', 'Pandora Track Stations', \n",
    "              'Soundcloud Streams', 'Shazam Counts']\n",
    "\n",
    "for remove_comma in change_col:\n",
    "    df[remove_comma] = df[remove_comma].str.replace(',', '')\n",
    "\n",
    "df.fillna(0, inplace=True)\n",
    "    \n",
    "#df[change_col].head(5)"
   ]
  },
  {
   "cell_type": "code",
   "execution_count": 164,
   "id": "d54fa99b-9165-4a87-9aa6-30006a25188c",
   "metadata": {},
   "outputs": [],
   "source": [
    "#Let's set up a feature matrix and a label vector for the dataset\n",
    "\n",
    "feature_columns = ['Track Score', 'Spotify Streams', 'Spotify Playlist Count', 'Spotify Playlist Reach', \n",
    "                   'Spotify Popularity', 'YouTube Views', 'YouTube Likes', 'TikTok Posts', 'TikTok Likes',\n",
    "                   'TikTok Views', 'YouTube Playlist Reach', 'Apple Music Playlist Count', 'AirPlay Spins',\t\n",
    "                   'SiriusXM Spins', 'Deezer Playlist Count', 'Deezer Playlist Reach',\t'Amazon Playlist Count', \n",
    "                   'Pandora Streams', 'Pandora Track Stations',\t'Soundcloud Streams', 'Shazam Counts', 'Explicit Track']\n",
    "\n",
    "#X will be the feature matrix (dataframe) that stores all of our features' values\n",
    "X = df[feature_columns]\n",
    "\n",
    "#Y will be the label vector (dataframe) that will store all of the label values\n",
    "y = df['All Time Rank']"
   ]
  },
  {
   "cell_type": "code",
   "execution_count": 166,
   "id": "e56cf18f-b8df-4afb-a05c-d9bd00aaf0b1",
   "metadata": {},
   "outputs": [],
   "source": [
    "#Splits up the dataset into testing and training sets\n",
    "X_train, X_test, y_train, y_test = train_test_split(X, y, test_size=0.30, random_state=9)"
   ]
  },
  {
   "cell_type": "code",
   "execution_count": 168,
   "id": "d342a897-9323-4c6b-9a51-4b643759a9a6",
   "metadata": {},
   "outputs": [
    {
     "name": "stdout",
     "output_type": "stream",
     "text": [
      "0.0014492753623188406\n"
     ]
    }
   ],
   "source": [
    "'''\n",
    "KEYVAN'S SECTION\n",
    "'''\n",
    "\n",
    "#Instantiates Decision Tree Classifer object\n",
    "decision_tree = DecisionTreeClassifier(criterion='entropy', max_depth=None, random_state=9)\n",
    "\n",
    "#Trains the DT object\n",
    "decision_tree.fit(X_train, y_train)\n",
    "\n",
    "#Tests DT object on testing data \n",
    "y_predict = decision_tree.predict(X_test)\n",
    "\n",
    "#Checks the accuracy of the actual values compared to the predicted values for DT classifier\n",
    "dt_accuracy = accuracy_score(y_test, y_predict)\n",
    "\n",
    "print(dt_accuracy)"
   ]
  },
  {
   "cell_type": "code",
   "execution_count": 156,
   "id": "8793fecc-71a6-4152-876e-e5b024f21766",
   "metadata": {},
   "outputs": [
    {
     "name": "stdout",
     "output_type": "stream",
     "text": [
      "0.0\n"
     ]
    }
   ],
   "source": [
    "#Sets up for KNN Classifer object \n",
    "k = 7\n",
    "knn = KNeighborsClassifier(n_neighbors = k, weights = 'uniform')\n",
    "\n",
    "#Trains the KNN object on the training data\n",
    "knn.fit(X_train, y_train)\n",
    "\n",
    "#Tests KNN object on testing set\n",
    "y_predict = knn.predict(X_test)\n",
    "\n",
    "#Checks the accuracy of the actual values compared to the predicted values for KNN classifier\n",
    "knn_accuracy = accuracy_score(y_test, y_predict)\n",
    "\n",
    "print(knn_accuracy)"
   ]
  },
  {
   "cell_type": "code",
   "execution_count": null,
   "id": "22491392-8ac8-4f2b-b283-f2d0784d4fdd",
   "metadata": {},
   "outputs": [],
   "source": []
  }
 ],
 "metadata": {
  "kernelspec": {
   "display_name": "Python 3 (ipykernel)",
   "language": "python",
   "name": "python3"
  },
  "language_info": {
   "codemirror_mode": {
    "name": "ipython",
    "version": 3
   },
   "file_extension": ".py",
   "mimetype": "text/x-python",
   "name": "python",
   "nbconvert_exporter": "python",
   "pygments_lexer": "ipython3",
   "version": "3.12.4"
  }
 },
 "nbformat": 4,
 "nbformat_minor": 5
}
